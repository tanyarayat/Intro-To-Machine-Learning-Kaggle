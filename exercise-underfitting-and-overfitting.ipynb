{
 "cells": [
  {
   "cell_type": "markdown",
   "id": "035e1af6",
   "metadata": {
    "papermill": {
     "duration": 0.011081,
     "end_time": "2021-07-18T20:06:17.716911",
     "exception": false,
     "start_time": "2021-07-18T20:06:17.705830",
     "status": "completed"
    },
    "tags": []
   },
   "source": [
    "**This notebook is an exercise in the [Introduction to Machine Learning](https://www.kaggle.com/learn/intro-to-machine-learning) course.  You can reference the tutorial at [this link](https://www.kaggle.com/dansbecker/underfitting-and-overfitting).**\n",
    "\n",
    "---\n"
   ]
  },
  {
   "cell_type": "markdown",
   "id": "cda544c3",
   "metadata": {
    "papermill": {
     "duration": 0.009234,
     "end_time": "2021-07-18T20:06:17.736423",
     "exception": false,
     "start_time": "2021-07-18T20:06:17.727189",
     "status": "completed"
    },
    "tags": []
   },
   "source": [
    "## Recap\n",
    "You've built your first model, and now it's time to optimize the size of the tree to make better predictions. Run this cell to set up your coding environment where the previous step left off."
   ]
  },
  {
   "cell_type": "code",
   "execution_count": 1,
   "id": "24d96c78",
   "metadata": {
    "execution": {
     "iopub.execute_input": "2021-07-18T20:06:17.770622Z",
     "iopub.status.busy": "2021-07-18T20:06:17.769955Z",
     "iopub.status.idle": "2021-07-18T20:06:19.174431Z",
     "shell.execute_reply": "2021-07-18T20:06:19.173570Z",
     "shell.execute_reply.started": "2021-07-17T18:15:47.626353Z"
    },
    "papermill": {
     "duration": 1.428602,
     "end_time": "2021-07-18T20:06:19.174601",
     "exception": false,
     "start_time": "2021-07-18T20:06:17.745999",
     "status": "completed"
    },
    "tags": []
   },
   "outputs": [
    {
     "name": "stdout",
     "output_type": "stream",
     "text": [
      "Validation MAE: 29,653\n",
      "\n",
      "Setup complete\n"
     ]
    }
   ],
   "source": [
    "# Code you have previously used to load data\n",
    "import pandas as pd\n",
    "from sklearn.metrics import mean_absolute_error\n",
    "from sklearn.model_selection import train_test_split\n",
    "from sklearn.tree import DecisionTreeRegressor\n",
    "\n",
    "\n",
    "# Path of the file to read\n",
    "iowa_file_path = '../input/home-data-for-ml-course/train.csv'\n",
    "\n",
    "home_data = pd.read_csv(iowa_file_path)\n",
    "# Create target object and call it y\n",
    "y = home_data.SalePrice\n",
    "# Create X\n",
    "features = ['LotArea', 'YearBuilt', '1stFlrSF', '2ndFlrSF', 'FullBath', 'BedroomAbvGr', 'TotRmsAbvGrd']\n",
    "X = home_data[features]\n",
    "\n",
    "# Split into validation and training data\n",
    "train_X, val_X, train_y, val_y = train_test_split(X, y, random_state=1)\n",
    "\n",
    "# Specify Model\n",
    "iowa_model = DecisionTreeRegressor(random_state=1)\n",
    "# Fit Model\n",
    "iowa_model.fit(train_X, train_y)\n",
    "\n",
    "# Make validation predictions and calculate mean absolute error\n",
    "val_predictions = iowa_model.predict(val_X)\n",
    "val_mae = mean_absolute_error(val_predictions, val_y)\n",
    "print(\"Validation MAE: {:,.0f}\".format(val_mae))\n",
    "\n",
    "# Set up code checking\n",
    "from learntools.core import binder\n",
    "binder.bind(globals())\n",
    "from learntools.machine_learning.ex5 import *\n",
    "print(\"\\nSetup complete\")"
   ]
  },
  {
   "cell_type": "markdown",
   "id": "fa463373",
   "metadata": {
    "papermill": {
     "duration": 0.009606,
     "end_time": "2021-07-18T20:06:19.194834",
     "exception": false,
     "start_time": "2021-07-18T20:06:19.185228",
     "status": "completed"
    },
    "tags": []
   },
   "source": [
    "# Exercises\n",
    "You could write the function `get_mae` yourself. For now, we'll supply it. This is the same function you read about in the previous lesson. Just run the cell below."
   ]
  },
  {
   "cell_type": "code",
   "execution_count": 2,
   "id": "a38c0995",
   "metadata": {
    "execution": {
     "iopub.execute_input": "2021-07-18T20:06:19.218502Z",
     "iopub.status.busy": "2021-07-18T20:06:19.217754Z",
     "iopub.status.idle": "2021-07-18T20:06:19.224372Z",
     "shell.execute_reply": "2021-07-18T20:06:19.223569Z",
     "shell.execute_reply.started": "2021-07-17T18:17:56.309868Z"
    },
    "papermill": {
     "duration": 0.019661,
     "end_time": "2021-07-18T20:06:19.224513",
     "exception": false,
     "start_time": "2021-07-18T20:06:19.204852",
     "status": "completed"
    },
    "tags": []
   },
   "outputs": [],
   "source": [
    "def get_mae(max_leaf_nodes, train_X, val_X, train_y, val_y):\n",
    "    model = DecisionTreeRegressor(max_leaf_nodes=max_leaf_nodes, random_state=0)\n",
    "    model.fit(train_X, train_y)\n",
    "    preds_val = model.predict(val_X)\n",
    "    mae = mean_absolute_error(val_y, preds_val)\n",
    "    return(mae)"
   ]
  },
  {
   "cell_type": "markdown",
   "id": "6533ddf7",
   "metadata": {
    "papermill": {
     "duration": 0.009921,
     "end_time": "2021-07-18T20:06:19.244878",
     "exception": false,
     "start_time": "2021-07-18T20:06:19.234957",
     "status": "completed"
    },
    "tags": []
   },
   "source": [
    "## Step 1: Compare Different Tree Sizes\n",
    "Write a loop that tries the following values for *max_leaf_nodes* from a set of possible values.\n",
    "\n",
    "Call the *get_mae* function on each value of max_leaf_nodes. Store the output in some way that allows you to select the value of `max_leaf_nodes` that gives the most accurate model on your data."
   ]
  },
  {
   "cell_type": "code",
   "execution_count": 3,
   "id": "c4c9b367",
   "metadata": {
    "execution": {
     "iopub.execute_input": "2021-07-18T20:06:19.273859Z",
     "iopub.status.busy": "2021-07-18T20:06:19.272871Z",
     "iopub.status.idle": "2021-07-18T20:06:19.326101Z",
     "shell.execute_reply": "2021-07-18T20:06:19.325547Z",
     "shell.execute_reply.started": "2021-07-17T18:19:46.159851Z"
    },
    "papermill": {
     "duration": 0.071194,
     "end_time": "2021-07-18T20:06:19.326249",
     "exception": false,
     "start_time": "2021-07-18T20:06:19.255055",
     "status": "completed"
    },
    "tags": []
   },
   "outputs": [
    {
     "data": {
      "application/javascript": [
       "parent.postMessage({\"jupyterEvent\": \"custom.exercise_interaction\", \"data\": {\"outcomeType\": 1, \"valueTowardsCompletion\": 0.5, \"interactionType\": 1, \"questionType\": 1, \"questionId\": \"1_BestTreeSize\", \"learnToolsVersion\": \"0.3.4\", \"failureMessage\": \"\", \"exceptionClass\": \"\", \"trace\": \"\"}}, \"*\")"
      ],
      "text/plain": [
       "<IPython.core.display.Javascript object>"
      ]
     },
     "metadata": {},
     "output_type": "display_data"
    },
    {
     "data": {
      "text/markdown": [
       "<span style=\"color:#33cc33\">Correct</span>"
      ],
      "text/plain": [
       "Correct"
      ]
     },
     "metadata": {},
     "output_type": "display_data"
    }
   ],
   "source": [
    "candidate_max_leaf_nodes = [5, 25, 50, 100, 250, 500]\n",
    "# Write loop to find the ideal tree size from candidate_max_leaf_nodes\n",
    "score = {leaf_size: get_mae(leaf_size, train_X, val_X, train_y, val_y) for leaf_size in candidate_max_leaf_nodes}\n",
    "\n",
    "\n",
    "# Store the best value of max_leaf_nodes (it will be either 5, 25, 50, 100, 250 or 500)\n",
    "best_tree_size = min(score, key=score.get)\n",
    "\n",
    "# Check your answer\n",
    "step_1.check()"
   ]
  },
  {
   "cell_type": "code",
   "execution_count": 4,
   "id": "cd0df9ca",
   "metadata": {
    "execution": {
     "iopub.execute_input": "2021-07-18T20:06:19.353616Z",
     "iopub.status.busy": "2021-07-18T20:06:19.352897Z",
     "iopub.status.idle": "2021-07-18T20:06:19.356472Z",
     "shell.execute_reply": "2021-07-18T20:06:19.355972Z",
     "shell.execute_reply.started": "2021-07-17T18:19:52.340278Z"
    },
    "papermill": {
     "duration": 0.018923,
     "end_time": "2021-07-18T20:06:19.356613",
     "exception": false,
     "start_time": "2021-07-18T20:06:19.337690",
     "status": "completed"
    },
    "tags": []
   },
   "outputs": [],
   "source": [
    "# The lines below will show you a hint or the solution.\n",
    "# step_1.hint() \n",
    "#step_1.solution()"
   ]
  },
  {
   "cell_type": "markdown",
   "id": "63e00aeb",
   "metadata": {
    "papermill": {
     "duration": 0.010984,
     "end_time": "2021-07-18T20:06:19.378995",
     "exception": false,
     "start_time": "2021-07-18T20:06:19.368011",
     "status": "completed"
    },
    "tags": []
   },
   "source": [
    "## Step 2: Fit Model Using All Data\n",
    "You know the best tree size. If you were going to deploy this model in practice, you would make it even more accurate by using all of the data and keeping that tree size.  That is, you don't need to hold out the validation data now that you've made all your modeling decisions."
   ]
  },
  {
   "cell_type": "code",
   "execution_count": 5,
   "id": "bf0a29e5",
   "metadata": {
    "execution": {
     "iopub.execute_input": "2021-07-18T20:06:19.410642Z",
     "iopub.status.busy": "2021-07-18T20:06:19.408454Z",
     "iopub.status.idle": "2021-07-18T20:06:19.421633Z",
     "shell.execute_reply": "2021-07-18T20:06:19.422232Z",
     "shell.execute_reply.started": "2021-07-17T18:24:14.580787Z"
    },
    "papermill": {
     "duration": 0.032179,
     "end_time": "2021-07-18T20:06:19.422466",
     "exception": false,
     "start_time": "2021-07-18T20:06:19.390287",
     "status": "completed"
    },
    "tags": []
   },
   "outputs": [
    {
     "data": {
      "application/javascript": [
       "parent.postMessage({\"jupyterEvent\": \"custom.exercise_interaction\", \"data\": {\"outcomeType\": 1, \"valueTowardsCompletion\": 0.5, \"interactionType\": 1, \"questionType\": 2, \"questionId\": \"2_FitModelWithAllData\", \"learnToolsVersion\": \"0.3.4\", \"failureMessage\": \"\", \"exceptionClass\": \"\", \"trace\": \"\"}}, \"*\")"
      ],
      "text/plain": [
       "<IPython.core.display.Javascript object>"
      ]
     },
     "metadata": {},
     "output_type": "display_data"
    },
    {
     "data": {
      "text/markdown": [
       "<span style=\"color:#33cc33\">Correct</span>"
      ],
      "text/plain": [
       "Correct"
      ]
     },
     "metadata": {},
     "output_type": "display_data"
    }
   ],
   "source": [
    "# Fill in argument to make optimal size and uncomment\n",
    "final_model = DecisionTreeRegressor(max_leaf_nodes=best_tree_size,random_state=1)\n",
    "\n",
    "# fit the final model and uncomment the next two lines\n",
    "final_model.fit(X,y)\n",
    "\n",
    "# Check your answer\n",
    "step_2.check()"
   ]
  },
  {
   "cell_type": "code",
   "execution_count": 6,
   "id": "2d1479b5",
   "metadata": {
    "execution": {
     "iopub.execute_input": "2021-07-18T20:06:19.453710Z",
     "iopub.status.busy": "2021-07-18T20:06:19.452875Z",
     "iopub.status.idle": "2021-07-18T20:06:19.456984Z",
     "shell.execute_reply": "2021-07-18T20:06:19.456320Z",
     "shell.execute_reply.started": "2021-07-17T18:24:19.879198Z"
    },
    "papermill": {
     "duration": 0.02069,
     "end_time": "2021-07-18T20:06:19.457120",
     "exception": false,
     "start_time": "2021-07-18T20:06:19.436430",
     "status": "completed"
    },
    "tags": []
   },
   "outputs": [],
   "source": [
    "# step_2.hint()\n",
    "#step_2.solution()"
   ]
  },
  {
   "cell_type": "markdown",
   "id": "d9111728",
   "metadata": {
    "papermill": {
     "duration": 0.011716,
     "end_time": "2021-07-18T20:06:19.481013",
     "exception": false,
     "start_time": "2021-07-18T20:06:19.469297",
     "status": "completed"
    },
    "tags": []
   },
   "source": [
    "You've tuned this model and improved your results. But we are still using Decision Tree models, which are not very sophisticated by modern machine learning standards. In the next step you will learn to use Random Forests to improve your models even more.\n",
    "\n",
    "# Keep Going\n",
    "\n",
    "You are ready for **[Random Forests](https://www.kaggle.com/dansbecker/random-forests).**\n"
   ]
  },
  {
   "cell_type": "markdown",
   "id": "ae8638a0",
   "metadata": {
    "papermill": {
     "duration": 0.011784,
     "end_time": "2021-07-18T20:06:19.504888",
     "exception": false,
     "start_time": "2021-07-18T20:06:19.493104",
     "status": "completed"
    },
    "tags": []
   },
   "source": [
    "---\n",
    "\n",
    "\n",
    "\n",
    "\n",
    "*Have questions or comments? Visit the [Learn Discussion forum](https://www.kaggle.com/learn-forum/161285) to chat with other Learners.*"
   ]
  }
 ],
 "metadata": {
  "kernelspec": {
   "display_name": "Python 3",
   "language": "python",
   "name": "python3"
  },
  "language_info": {
   "codemirror_mode": {
    "name": "ipython",
    "version": 3
   },
   "file_extension": ".py",
   "mimetype": "text/x-python",
   "name": "python",
   "nbconvert_exporter": "python",
   "pygments_lexer": "ipython3",
   "version": "3.7.10"
  },
  "papermill": {
   "default_parameters": {},
   "duration": 11.460141,
   "end_time": "2021-07-18T20:06:20.328237",
   "environment_variables": {},
   "exception": null,
   "input_path": "__notebook__.ipynb",
   "output_path": "__notebook__.ipynb",
   "parameters": {},
   "start_time": "2021-07-18T20:06:08.868096",
   "version": "2.3.3"
  }
 },
 "nbformat": 4,
 "nbformat_minor": 5
}
